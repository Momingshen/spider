{
 "cells": [
  {
   "cell_type": "markdown",
   "metadata": {},
   "source": [
    "# requests库"
   ]
  },
  {
   "cell_type": "code",
   "execution_count": null,
   "metadata": {},
   "outputs": [],
   "source": [
    "#可以增加headers,cookies等信息请求\n",
    "def request(url):\n",
    "    import requests \n",
    "    #调用requests请求库\n",
    "    url=url\n",
    "    response = requests.get(url)\n",
    "    texts=response.text\n",
    "    import re   \n",
    "    #调用re正则表达式\n",
    "    data=re.findall(x,texts,re.S)   #x:需要匹配的内容，re.S:跳过换行等符号\n",
    "    return data"
   ]
  },
  {
   "cell_type": "markdown",
   "metadata": {},
   "source": [
    "# selenium库"
   ]
  },
  {
   "cell_type": "code",
   "execution_count": null,
   "metadata": {},
   "outputs": [],
   "source": [
    "###################无界面有头请求#################\n",
    "def webdriver(url):\n",
    "    import time\n",
    "    from selenium.webdriver import Chrome\n",
    "    from selenium.webdriver.chrome.options import Options\n",
    "\n",
    "    chrome_options = Options()\n",
    "    chrome_options.add_argument(\"--headless\")\n",
    "    chrome_options.add_argument('user-agent=Mozilla/5.0 (Macintosh; Intel Mac OS X 10_15_7) AppleWebKit/537.36 (KHTML, like Gecko) Chrome/86.0.4240.198 Safari/537.36')\n",
    "\n",
    "    driver = Chrome(options=chrome_options)\n",
    "\n",
    "    with open('./stealth.min.js') as f:         #导入本地js文件\n",
    "        js = f.read()\n",
    "\n",
    "    driver.execute_cdp_cmd(\"Page.addScriptToEvaluateOnNewDocument\", {\n",
    "      \"source\": js\n",
    "    })\n",
    "\n",
    "    driver.get(url)    #请求网页\n",
    "    time.sleep(10)    #等待页面加载\n",
    "    \n",
    "    # driver.save_screenshot('a.png')  #截图页面\n",
    "    source = driver.page_source   #保存网页源码\n",
    "    path='./path/'\n",
    "    with open(path,'w',encoding='utf-8') as f:\n",
    "        f.write(source)\n",
    "    driver.quit()    #退出网页"
   ]
  },
  {
   "cell_type": "code",
   "execution_count": null,
   "metadata": {},
   "outputs": [],
   "source": [
    "#############滑动网页最外层滑动条#################\n",
    "browser=driver\n",
    "js = \"var q=document.getElementsByClassName('sOh CrmLxe')[0].scrollTop = 1000\"\n",
    "browser.execute_script(js)\n",
    "time.sleep(2)\n",
    "#############滑动网页内层滑动条#################\n",
    "browser.execute_script(\"window.scrollBy(0,500)\")\n",
    "js1 = \"var q=document.getElementsByClassName('sOh CrmLxe')[0].scrollTo(0,0)\"\n",
    "browser.execute_script(js1)\n",
    "#############用css选择器选取节点#################\n",
    "a=browser.find_element_by_css_selector('#yDmH0d > c-wiz > div > div.FVeGwb.ARbOBb > div.BP0hze > div.y3767c > div > div > div.dzRe8d.pym81b > div > div.sOh.CrmLxe > table > thead > tr > th.oyBoPe.L8R3fc.Q3JyKe.qCOQbc.NmDtHe')\n",
    "a.click()   #点击\n",
    "time.sleep(2)\n",
    "browser.execute_script(js)\n",
    "\n",
    "###################有界面有头请求，需要配合浏览器#################\n",
    "# from selenium import webdriver\n",
    "# browser = webdriver.Chrome()"
   ]
  },
  {
   "cell_type": "markdown",
   "metadata": {},
   "source": [
    "# bs库"
   ]
  },
  {
   "cell_type": "code",
   "execution_count": null,
   "metadata": {},
   "outputs": [],
   "source": [
    "from bs4 import BeautifulSoup\n",
    "soup = BeautifulSoup(r.text, 'lxml')\n",
    "name_list = soup.find_all('div', class_ = 'hd')\n",
    "pics = soup.find_all('div', class_ = 'pic')   \n",
    "for pic in pics:\n",
    "    url = pic.a.img['src']\n",
    "    pic_list.append(url)\n",
    "daoyans = soup.find_all('div', class_ = 'bd')   \n",
    "for each in daoyans[1:]:\n",
    "    daoyan = each.p.text.strip().split(' ')[1]\n",
    "    daoyan.append(daoyan)"
   ]
  },
  {
   "cell_type": "markdown",
   "metadata": {},
   "source": [
    "# 保存网页文件代码"
   ]
  },
  {
   "cell_type": "code",
   "execution_count": null,
   "metadata": {},
   "outputs": [],
   "source": [
    "from urllib.request import urlretrieve\n",
    "urlretrieve(url,path)"
   ]
  },
  {
   "cell_type": "markdown",
   "metadata": {},
   "source": [
    "# bat文件自动运行"
   ]
  },
  {
   "cell_type": "code",
   "execution_count": null,
   "metadata": {},
   "outputs": [],
   "source": [
    "###########命名.bat文件，每日自动定时运行####################\n",
    "'''\n",
    "@echo off\n",
    "\n",
    ":start\n",
    "\n",
    "rem put all your bots here.\n",
    "cd D:\\CBZ\n",
    "\n",
    "start python text.py\n",
    "\n",
    "rem ...\n",
    "\n",
    "timeout 86400\n",
    "\n",
    "goto start\n",
    "'''"
   ]
  }
 ],
 "metadata": {
  "kernelspec": {
   "display_name": "Python 3",
   "language": "python",
   "name": "python3"
  },
  "language_info": {
   "codemirror_mode": {
    "name": "ipython",
    "version": 3
   },
   "file_extension": ".py",
   "mimetype": "text/x-python",
   "name": "python",
   "nbconvert_exporter": "python",
   "pygments_lexer": "ipython3",
   "version": "3.8.5"
  },
  "toc": {
   "base_numbering": 1,
   "nav_menu": {},
   "number_sections": true,
   "sideBar": true,
   "skip_h1_title": false,
   "title_cell": "Table of Contents",
   "title_sidebar": "Contents",
   "toc_cell": false,
   "toc_position": {},
   "toc_section_display": true,
   "toc_window_display": false
  },
  "varInspector": {
   "cols": {
    "lenName": 16,
    "lenType": 16,
    "lenVar": 40
   },
   "kernels_config": {
    "python": {
     "delete_cmd_postfix": "",
     "delete_cmd_prefix": "del ",
     "library": "var_list.py",
     "varRefreshCmd": "print(var_dic_list())"
    },
    "r": {
     "delete_cmd_postfix": ") ",
     "delete_cmd_prefix": "rm(",
     "library": "var_list.r",
     "varRefreshCmd": "cat(var_dic_list()) "
    }
   },
   "types_to_exclude": [
    "module",
    "function",
    "builtin_function_or_method",
    "instance",
    "_Feature"
   ],
   "window_display": false
  }
 },
 "nbformat": 4,
 "nbformat_minor": 4
}

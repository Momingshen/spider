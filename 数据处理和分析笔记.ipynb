{
 "cells": [
  {
   "cell_type": "markdown",
   "metadata": {},
   "source": [
    "# 文件夹"
   ]
  },
  {
   "cell_type": "code",
   "execution_count": null,
   "metadata": {},
   "outputs": [],
   "source": [
    "import os\n",
    "if not os.path.exists(\"name\"):    #如果没有这个文件夹\n",
    "        os.mkdir(\"name\")          #创建这个文件夹\n",
    "        os.chdir(\"name\")          #切换到这个文件夹\n",
    "else:   \n",
    "        os.chdir(\"name\")\n",
    "#######切换到父文件夹###########\n",
    "os.chdir(os.pardir)\n",
    "#######列出当前文件夹下的所有文件####\n",
    "dirlist=os.listdir(path) "
   ]
  },
  {
   "cell_type": "markdown",
   "metadata": {},
   "source": [
    "# 数据转换"
   ]
  },
  {
   "cell_type": "code",
   "execution_count": null,
   "metadata": {},
   "outputs": [],
   "source": [
    "import time\n",
    "##############13位时间戳转换为标准格式###################\n",
    "t=1615300269000\n",
    "timeTemp = float(int(t)/1000)\n",
    "tupTime = time.localtime(timeTemp)\n",
    "t= time.strftime(\"%Y-%m-%d %H:%M:%S\", tupTime)\n",
    "print(t)\n",
    "################获取现在时间，转换格式#######################\n",
    "t=datetime.datetime.now()\n",
    "t=str(t).split('.')[0].replace(':','-')\n",
    "\n",
    "import datetime\n",
    "################获取间隔几天的时间###################\n",
    "delta = datetime.timedelta(days=1)\n",
    "begin = datetime.datetime.now()\n",
    "end = begin-delta\n",
    "#begin.strftime(\"%m-%d-%Y\") #时间转换格式"
   ]
  },
  {
   "cell_type": "markdown",
   "metadata": {},
   "source": [
    "# 写入文件"
   ]
  },
  {
   "cell_type": "code",
   "execution_count": null,
   "metadata": {},
   "outputs": [],
   "source": [
    "##########第一种表达#######\n",
    "f=open(txt,'a',encoding='utf-8')\n",
    "f.write()\n",
    "f.close()\n",
    "##########第二种表达#######\n",
    "with open(txt,'a',encoding='utf-8') as f:\n",
    "    f.write()"
   ]
  },
  {
   "cell_type": "markdown",
   "metadata": {},
   "source": [
    "# 编码转换"
   ]
  },
  {
   "cell_type": "code",
   "execution_count": null,
   "metadata": {},
   "outputs": [],
   "source": [
    "'\\u5b66\\u6d77\\u65e0\\u6daf\\uff0c\\u56de\\u5934\\u662f\\u5cb8'.encode('utf-8').decode('unicode_escape')"
   ]
  },
  {
   "cell_type": "markdown",
   "metadata": {},
   "source": [
    "# pandas库"
   ]
  },
  {
   "cell_type": "code",
   "execution_count": null,
   "metadata": {},
   "outputs": [],
   "source": [
    "import pandas as pd \n",
    "##########读取文件##########\n",
    "df= pd.read_csv(path)\n",
    "##########选取i行j列##########\n",
    "data=df.iloc[i:,j:]\n",
    "##########选取索引列名##########\n",
    "df.loc['2009-03-31':'2019-03-31',]\n",
    "##########写出文件##########\n",
    "df.to_csv(path,mode='a',index=False,header=False)\n",
    "##########转换时间为datetime格式##########\n",
    "time=pd.to_datetime(df['日期'],format='%Y-%m-%d')\n",
    "##########删除某行或某列#####\n",
    "df.drop('日期',axis=1)\n",
    "########填充空值##############\n",
    "df.fillna(0)\n",
    "########取特征的所有唯一值##############\n",
    "df.country.unique()\n",
    "\n",
    "########取特征的其他特征##############\n",
    "df['特征_mean']=df[all_in].mean(axis=1).tolist()\n",
    "df['特征_var']=df[all_in].var(axis=1).tolist()\n",
    "df['特征_std']=df[all_in].std(axis=1).tolist()\n",
    "df['特征_median']=df[all_in].median(axis=1).tolist()\n",
    "df['特征_max']=df[all_in].max(axis=1).tolist()\n",
    "df['特征_min']=df[all_in].min(axis=1).tolist()\n",
    "df['特征_quantile0.25']=df[all_in].quantile(0.25,axis=1).tolist()  #上四分位数\n",
    "df['特征_quantile0.75']=df[all_in].quantile(0.75,axis=1).tolist()  #下四分位数\n",
    "df['特征_skew']=df[all_in].skew(axis=1).tolist()  #偏度 偏度（skewness），是统计数据分布偏斜方向和程度的度量，是统计数据分布非对称程度的数字特征。偏度(Skewness)亦称偏态、偏态系数。\n",
    "df['特征_kurt']=df[all_in].kurt(axis=1).tolist()  #峰度 峰度（peakedness；kurtosis）又称峰态系数。表征概率密度分布曲线在平均值处峰值高低的特征数。直观看来，峰度反映了峰部的尖度。\n",
    "\n",
    "########拼接两个dataframe##############\n",
    "data = pd.concat([data,data1])\n",
    "########设置索引##############\n",
    "data=data.set_index('Date',drop=True)\n",
    "########对特征进行格式处理##############\n",
    "df=df.apply(lambda x:x+x)"
   ]
  },
  {
   "cell_type": "markdown",
   "metadata": {},
   "source": [
    "# numpy库"
   ]
  },
  {
   "cell_type": "code",
   "execution_count": null,
   "metadata": {},
   "outputs": [],
   "source": [
    "import numpy as np\n",
    "##########数组转列表##########\n",
    "list1=np.array(x).tolist()"
   ]
  },
  {
   "cell_type": "markdown",
   "metadata": {},
   "source": [
    "# matplotlib库"
   ]
  },
  {
   "cell_type": "code",
   "execution_count": null,
   "metadata": {},
   "outputs": [],
   "source": [
    "import matplotlib.pyplot as plt\n",
    "##########画图格式：黑体、正常显示负号##########\n",
    "matplotlib.rcParams['font.family'] = 'SimHei'\n",
    "matplotlib.rcParams['axes.unicode_minus']=False\n",
    "\n",
    "def display(x,y):\n",
    "    plt.figure(figsize=(6, 4))  #图片的大小\n",
    "    plt.plot(x, y, 'g-', label='function')  #颜色符号g-、bo、r*，label标签\n",
    "    plt.title('solution = {}'.format(x))  #标题\n",
    "    plt.xlabel('x')   #x轴标签\n",
    "    plt.ylabel('y')   #y轴标签\n",
    "    plt.legend()      #呈现画布\n",
    "    plt.savefig('SA.png', dpi=500)   #保存图片\n",
    "    plt.show()      #画出图片\n",
    "    plt.close() \n",
    "    \n",
    "def plt_line(name,pred,true,path):\n",
    "    plt.figure(figsize=(20, 10),edgecolor='white',facecolor='white')\n",
    "    plt.plot(pred, '-', label=\"Predicted\", color=\"blue\", linewidth=5,markersize=5)\n",
    "    plt.plot(true, '--', label=\"Real\", color=\"red\", linewidth=5,markersize=5)\n",
    "    plt.title(name)\n",
    "    plt.legend()\n",
    "    plt.ylabel(\"ylabel\")\n",
    "    plt.grid()\n",
    "    path1 = \"./result/\" + path + \"/\"\n",
    "    if(os.path.exists(path1)):\n",
    "        pass\n",
    "    else:\n",
    "        mkdir(path1)\n",
    "    path2 = path1  + name + \".pdf\"\n",
    "    plt.savefig(path2)\n",
    "    plt.show()\n",
    "    \n",
    "######预测时序时画的图########\n",
    "pred_test = pred_test.reshape(-1,1)\n",
    "sample_n = pred_test.shape[0]\n",
    "feature_n = x_test.shape[1]\n",
    "a3=calculate(y_test,pred_test,sample_n,feature_n)\n",
    "\n",
    "plt.figure(figsize=(20, 10))\n",
    "plt.plot(np.arange(1,len(y_test)+1),y_test, 'r-',label='Test')\n",
    "plt.plot(np.arange(1,len(pred_test)+1),pred_test, 'g-',label='pred_test')\n",
    "plt.legend(loc='best')\n",
    "plt.show()\n",
    "\n",
    "plt.xlabel('pred_test')\n",
    "plt.ylabel('y_test')\n",
    "plt.scatter(pred_test,y_test,marker='.')\n",
    "plt.show()"
   ]
  },
  {
   "cell_type": "markdown",
   "metadata": {},
   "source": [
    "# seaborn库"
   ]
  },
  {
   "cell_type": "code",
   "execution_count": null,
   "metadata": {},
   "outputs": [],
   "source": [
    "import seaborn as sns\n",
    "############直方图、用皮尔逊相关系数计算#############\n",
    "sns.distplot(df_train.corr()['y'].values,label=\"pearson\",bins=20)\n",
    "#######提取相关系数大于0.5的特征##################\n",
    "a=df_train.corr()['y']\n",
    "b=a[a >=0.5 ].index.tolist()\n",
    "#######各特征相关系数图##################\n",
    "sns.heatmap(q.corr(), xticklabels=q.corr().columns, yticklabels=q.corr().columns, cmap='RdYlBu', center=0, annot=True,\n",
    "            square=True, linewidths=.5,#每个方格外框显示，外框宽度设置\n",
    "            cbar_kws={\"shrink\": .5})\n",
    "plt.title('features of top 10', fontsize=22)\n",
    "plt.xticks(fontsize=12)\n",
    "plt.yticks(fontsize=12)\n",
    "plt.show()\n",
    "############自带颜色的直方图##########\n",
    "import matplotlib.pyplot as plt\n",
    "plt.figure(figsize=(8,8))\n",
    "sns.barplot(x=x,y=y)\n",
    "plt.xlabel(\"model\")\n",
    "plt.plot(x,y,'*-')"
   ]
  },
  {
   "cell_type": "markdown",
   "metadata": {},
   "source": [
    "# sklearn库"
   ]
  },
  {
   "cell_type": "code",
   "execution_count": null,
   "metadata": {},
   "outputs": [],
   "source": [
    "##############归一化####################\n",
    "from sklearn.preprocessing import MinMaxScaler\n",
    "mm = MinMaxScaler()\n",
    "mm_xdata = mm.fit_transform(df_train.drop(['y'],axis=1))\n",
    "mm_ydata = mm.fit_transform(df_test.drop(['y'],axis=1))\n",
    "# origin_data = mm.inverse_transform(mm_data)\n",
    "\n",
    "x=pd.DataFrame(mm_xdata,index=df_train.drop(['y'],axis=1).index,columns=df_train.drop(['y'],axis=1).columns)\n",
    "x_train=x.drop(['y'],axis=1)\n",
    "y_train=x['y'].values.reshape(1,-1)[0]\n",
    "##############评估指标####################################\n",
    "from sklearn.metrics import mean_absolute_error,mean_squared_error,median_absolute_error,r2_score,mean_squared_log_error\n",
    "def calculate(y_true, y_predict, n, p):\n",
    "    y_true = y_true\n",
    "    y_predict = y_predict\n",
    "    mse = mean_squared_error(y_true, y_predict)\n",
    "    rmse = np.sqrt(mean_squared_error(y_true, y_predict))\n",
    "    mae = mean_absolute_error(y_true, y_predict)\n",
    "    r2 = r2_score(y_true, y_predict)\n",
    "    mad = median_absolute_error(y_true, y_predict)\n",
    "    mape = np.mean(np.abs((y_true - y_predict) / y_true)) * 100\n",
    "    r2_adjusted = 1-((1-r2)*(n-1))/(n-p-1)\n",
    "    print('MSE: ', mse)\n",
    "    print('RMSE: ', rmse)\n",
    "    print('MAE: ', mae)\n",
    "    print('R2: ', r2)\n",
    "    print('MAD:', mad)\n",
    "    print('MAPE:', mape)\n",
    "    print('R2_Adjusted: ',r2_adjusted)\n",
    "    return mse,rmse,mae,r2,mad,mape,r2_adjusted"
   ]
  },
  {
   "cell_type": "markdown",
   "metadata": {},
   "source": [
    "# scipy库"
   ]
  },
  {
   "cell_type": "code",
   "execution_count": null,
   "metadata": {},
   "outputs": [],
   "source": [
    "import scipy.io as sio\n",
    "#########读取mat文件#############\n",
    "df= sio.loadmat(path)"
   ]
  },
  {
   "cell_type": "markdown",
   "metadata": {},
   "source": [
    "# PyMySQL库"
   ]
  },
  {
   "cell_type": "code",
   "execution_count": null,
   "metadata": {},
   "outputs": [],
   "source": [
    "######################################将CSV文件内容存入数据库#############################################\n",
    "#首先导入PyMySQL库\n",
    "import pymysql\n",
    "# 建立连接\n",
    "conn = pymysql.connect(host='localhost',port=3306,user='root',passwd='123456')\n",
    "# 自动确认commit True\n",
    "conn.autocommit(1)\n",
    "# 设置光标\n",
    "cursor = conn.cursor()\n",
    "\n",
    "# 一个根据pandas自动识别type来设定table的type\n",
    "def make_table_sql(df):\n",
    "    columns = df.columns.tolist()\n",
    "    types = df.dtypes\n",
    "    # 添加id 制动递增主键模式\n",
    "    make_table = []\n",
    "    for col in columns:\n",
    "        if 'int' in str(df[col].dtype):\n",
    "            char = col + ' INT'\n",
    "        elif 'float' in str(df[col].dtype):\n",
    "            char = col + ' FLOAT'\n",
    "        elif 'object' in str(df[col].dtype):\n",
    "            char = col + ' VARCHAR(255)'\n",
    "        elif 'datetime' in str(df[col].dtype):\n",
    "            char = col + ' DATETIME'          \n",
    "        make_table.append(char)\n",
    "    return ','.join(make_table)\n",
    "\n",
    "# csv 格式输入 mysql 中\n",
    "def csv2mysql(db_name, table_name, df):\n",
    "    # 创建database\n",
    "    cursor.execute('CREATE DATABASE IF NOT EXISTS {}'.format(db_name))\n",
    "    # 选择连接database\n",
    "    conn.select_db(db_name)\n",
    "    # 创建table\n",
    "    cursor.execute('DROP TABLE IF EXISTS {}'.format(table_name))\n",
    "    data_sql = 'CREATE TABLE %s (%s)'%(table_name,make_table_sql(df))\n",
    "    cursor.execute(data_sql)\n",
    "    values = df.values.tolist()\n",
    "    # 根据columns个数\n",
    "    s = ','.join(['%s' for _ in range(len(df.columns))])\n",
    "    # executemany批量操作 插入数据 批量操作比逐个操作速度快很多\n",
    "    cursor.executemany('INSERT INTO {} VALUES ({})'.format(table_name,s), values)\n",
    "    \n",
    "path = 'result.csv'\n",
    "df2 = pd.read_csv(path)\n",
    "df1 = df2.astype(object).where(pd.notnull(df2), None)\n",
    "csv2mysql(db_name='test', table_name='movie', df=df1)"
   ]
  },
  {
   "cell_type": "markdown",
   "metadata": {},
   "source": [
    "# sqlite3库"
   ]
  },
  {
   "cell_type": "code",
   "execution_count": null,
   "metadata": {},
   "outputs": [],
   "source": [
    "import sqlite3\n",
    "conn = sqlite3.connect('./douban_movies_250.db')\n",
    "cursor = conn.cursor()\n",
    "\n",
    "cursor.execute('''CREATE TABLE \"movie\" (\n",
    "    \"主键\" INTEGER,\n",
    "    \"电影名\" TEXT,\n",
    "    \"导演\" TEXT,\n",
    "    \"图片\" TEXT,\n",
    "    \"地区\" TEXT,\n",
    "    \"语言\" TEXT,\n",
    "    PRIMARY KEY(\"主键\")\n",
    ")''')\n",
    "\n",
    "path = 'result.csv'\n",
    "df = pd.read_csv(path)\n",
    "names = df.values.tolist()\n",
    "\n",
    "for name in names:\n",
    "    cursor.execute('INSERT INTO movie (电影名,导演,图片,地区,语言) VALUES (?,?,?,?,?)',(name))\n",
    "    print('將',name,'寫入數據庫')\n",
    "\n",
    "conn.commit()\n",
    "cursor.close()\n",
    "conn.close()"
   ]
  },
  {
   "cell_type": "markdown",
   "metadata": {},
   "source": [
    "# 闵氏距离"
   ]
  },
  {
   "cell_type": "code",
   "execution_count": null,
   "metadata": {},
   "outputs": [],
   "source": [
    "import numpy as np\n",
    "x=np.random.random(10)\n",
    "y=np.random.random(10)\n",
    "\n",
    "#方法一：根据公式求解,p=2\n",
    "d1=np.sqrt(np.sum(np.square(x-y)))\n",
    "print(d1)\n",
    "\n",
    "#方法二：根据scipy库求解\n",
    "from scipy.spatial.distance import pdist\n",
    "X=np.vstack([x,y])\n",
    "d2=pdist(X,'minkowski',p=2)\n",
    "print(d2[0])"
   ]
  },
  {
   "cell_type": "markdown",
   "metadata": {},
   "source": [
    "# 马氏距离"
   ]
  },
  {
   "cell_type": "code",
   "execution_count": null,
   "metadata": {},
   "outputs": [],
   "source": [
    "import numpy as np\n",
    "x=np.random.random(10)\n",
    "y=np.random.random(10)\n",
    "\n",
    "#马氏距离要求样本数要大于维数，否则无法求协方差矩阵\n",
    "#此处进行转置，表示10个样本，每个样本2维\n",
    "X=np.vstack([x,y])\n",
    "XT=X.T\n",
    "\n",
    "#方法一：根据公式求解\n",
    "S=np.cov(X)   #两个维度之间协方差矩阵\n",
    "SI = np.linalg.inv(S) #协方差矩阵的逆矩阵\n",
    "#马氏距离计算两个样本之间的距离，此处共有10个样本，两两组合，共有45个距离。\n",
    "n=XT.shape[0]\n",
    "d1=[]\n",
    "for i in range(0,n):\n",
    "    for j in range(i+1,n):\n",
    "        delta=XT[i]-XT[j]\n",
    "        d=np.sqrt(np.dot(np.dot(delta,SI),delta.T))\n",
    "        d1.append(d)\n",
    "print(d1)\n",
    "        \n",
    "#方法二：根据scipy库求解\n",
    "from scipy.spatial.distance import pdist\n",
    "d2=pdist(XT,'mahalanobis')\n",
    "print(d2)"
   ]
  },
  {
   "cell_type": "markdown",
   "metadata": {},
   "source": [
    "# 余弦相似度"
   ]
  },
  {
   "cell_type": "code",
   "execution_count": null,
   "metadata": {},
   "outputs": [],
   "source": [
    "import numpy as np\n",
    "\n",
    "def cos_sim(vector_a, vector_b):\n",
    "    \"\"\"\n",
    "    计算两个向量之间的余弦相似度\n",
    "    :param vector_a: 向量 a \n",
    "    :param vector_b: 向量 b\n",
    "    :return: sim\n",
    "    \"\"\"\n",
    "    vector_a = np.mat(vector_a)\n",
    "    vector_b = np.mat(vector_b)\n",
    "    num = float(vector_a * vector_b.T)\n",
    "    denom = np.linalg.norm(vector_a) * np.linalg.norm(vector_b)\n",
    "    cos = num / denom\n",
    "    sim = 0.5 + 0.5 * cos\n",
    "    return sim\n",
    "\n",
    "sim = cos_sim([1,2,3],[2,4,5])\n",
    "print(sim)"
   ]
  },
  {
   "cell_type": "markdown",
   "metadata": {},
   "source": [
    "# 隐马尔可夫模型"
   ]
  },
  {
   "cell_type": "code",
   "execution_count": null,
   "metadata": {},
   "outputs": [],
   "source": [
    "# !pip  install hmmlearn #安装解决隐马尔可夫模型问题的框架hmmLearn\n",
    "\n",
    "#隐藏层状态猜测\n",
    "import numpy as np\n",
    "#输出概率表\n",
    "emission_probaility=np.array([[0.4,0.3,0.3],  \n",
    "                              [0.2,0.3,0.5],\n",
    "                              [0.1,0.8,0.1]])\n",
    "#转换概率表\n",
    "transition_probability=np.array([[0.7,0.2,0.1],\n",
    "                                [0.3,0.5,0.2],\n",
    "                                [0.3,0.4,0.3]])\n",
    "#隐藏层各状态的初始概率\n",
    "start_probability=np.array([0.5,0.3,0.2])\n",
    "\n",
    "\n",
    "from hmmlearn import hmm \n",
    "model=hmm.MultinomialHMM(n_components=3) #定义有3种可见层状态\n",
    "model.startprob_=start_probability\n",
    "model.transmat_=transition_probability\n",
    "model.emissionprob_=emission_probaility\n",
    "observe_chain=np.array([0,2,1,1,1,1,1,1,2,2,2,2,2,2,2,2,1,0]).reshape(-1,1)\n",
    "#对 observe_chain 中的值来说，0代表打球，1代表读书，2代表访友；\n",
    "#对预测的隐藏状态来说，0代表晴，1代表阴，2代表雨。\n",
    "print(model.predict(observe_chain))\n",
    "\n",
    "#为给定模型的某个可见状态计算可能性,参数 X 是一个可见层状态的 Numpy 数组，输出一个 log 概率值。\n",
    "#所谓 log概率值是对原始概率进行ln（即loge ）计算后获得的值\n",
    "observe_chain=np.array([0,2,1,1,1,1,1,1,2,2,2,2,2,2,2,2,1,0]).reshape(-1,1)\n",
    "print(model.score(observe_chain))\n",
    "print(np.exp(-18.81446172553956)) #其真实的概率值"
   ]
  }
 ],
 "metadata": {
  "kernelspec": {
   "display_name": "Python 3",
   "language": "python",
   "name": "python3"
  },
  "language_info": {
   "codemirror_mode": {
    "name": "ipython",
    "version": 3
   },
   "file_extension": ".py",
   "mimetype": "text/x-python",
   "name": "python",
   "nbconvert_exporter": "python",
   "pygments_lexer": "ipython3",
   "version": "3.8.5"
  },
  "toc": {
   "base_numbering": 1,
   "nav_menu": {},
   "number_sections": true,
   "sideBar": true,
   "skip_h1_title": false,
   "title_cell": "Table of Contents",
   "title_sidebar": "Contents",
   "toc_cell": false,
   "toc_position": {},
   "toc_section_display": true,
   "toc_window_display": false
  },
  "varInspector": {
   "cols": {
    "lenName": 16,
    "lenType": 16,
    "lenVar": 40
   },
   "kernels_config": {
    "python": {
     "delete_cmd_postfix": "",
     "delete_cmd_prefix": "del ",
     "library": "var_list.py",
     "varRefreshCmd": "print(var_dic_list())"
    },
    "r": {
     "delete_cmd_postfix": ") ",
     "delete_cmd_prefix": "rm(",
     "library": "var_list.r",
     "varRefreshCmd": "cat(var_dic_list()) "
    }
   },
   "types_to_exclude": [
    "module",
    "function",
    "builtin_function_or_method",
    "instance",
    "_Feature"
   ],
   "window_display": false
  }
 },
 "nbformat": 4,
 "nbformat_minor": 4
}
